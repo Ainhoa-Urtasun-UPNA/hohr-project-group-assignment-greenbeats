{
 "cells": [
  {
   "cell_type": "code",
   "execution_count": 1,
   "metadata": {},
   "outputs": [
    {
     "name": "stdout",
     "output_type": "stream",
     "text": [
      "[[1.]\n",
      " [0.]\n",
      " [1.]]\n",
      "[[2690   46   17   75]\n",
      " [  46    3    0    0]\n",
      " [  17    0    3    0]\n",
      " [  75    0    0    3]]\n",
      "[[ 0.075      -1.15       -0.425      -1.875     ]\n",
      " [-1.15       17.96666667  6.51666667 28.75      ]\n",
      " [-0.425       6.51666667  2.74166667 10.625     ]\n",
      " [-1.875      28.75       10.625      47.20833333]]\n",
      "[[1022]\n",
      " [  15]\n",
      " [  38]\n",
      " [  23]]\n",
      "[[ 0.125     ]\n",
      " [ 3.08333333]\n",
      " [11.95833333]\n",
      " [ 4.54166667]]\n"
     ]
    }
   ],
   "source": [
    "import numpy\n",
    "\n",
    "# Forecasting number of available workers\n",
    "D = numpy.array([[15,0,0],[0,20,0],[0,0,50]])\n",
    "M = numpy.array([[5,2,0],[0,10,0],[5,5,45]])\n",
    "b = numpy.array([[3],[0],[0]])\n",
    "a = M@numpy.linalg.inv(D)@b\n",
    "print(a)\n",
    "\n",
    "# Forecasting demand for workers\n",
    "X = numpy.array([[15,1,0,0],[17,1,0,0],[14,1,0,0],[6,0,1,0],[6,0,1,0],[5,0,1,0],[23,0,0,1],[27,0,0,1],[25,0,0,1]])\n",
    "Y = numpy.array([[4],[6],[5],[13],[12],[13],[7],[7],[9]])\n",
    "XTX = numpy.matmul(X.T,X)\n",
    "print(XTX)\n",
    "inverse = numpy.linalg.inv(XTX)\n",
    "print(inverse)\n",
    "XTY = numpy.matmul(X.T,Y)\n",
    "print(XTY)\n",
    "betas = numpy.matmul(inverse,XTY)\n",
    "print(betas)"
   ]
  },
  {
   "cell_type": "code",
   "execution_count": null,
   "metadata": {},
   "outputs": [],
   "source": []
  }
 ],
 "metadata": {
  "kernelspec": {
   "display_name": "Python 3",
   "language": "python",
   "name": "python3"
  },
  "language_info": {
   "codemirror_mode": {
    "name": "ipython",
    "version": 3
   },
   "file_extension": ".py",
   "mimetype": "text/x-python",
   "name": "python",
   "nbconvert_exporter": "python",
   "pygments_lexer": "ipython3",
   "version": "3.8.5"
  }
 },
 "nbformat": 4,
 "nbformat_minor": 4
}
